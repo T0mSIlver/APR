{
 "cells": [
  {
   "cell_type": "code",
   "execution_count": 58,
   "metadata": {},
   "outputs": [],
   "source": [
    "%matplotlib inline"
   ]
  },
  {
   "cell_type": "code",
   "execution_count": 70,
   "metadata": {},
   "outputs": [],
   "source": [
    "import tensorflow as tf\n",
    "from keras.datasets import mnist\n",
    "from matplotlib import pyplot as plt"
   ]
  },
  {
   "cell_type": "code",
   "execution_count": 119,
   "metadata": {},
   "outputs": [],
   "source": [
    "(x_train, y_train), (x_test, y_test) = mnist.load_data()\n",
    "assert x_train.shape == (60000, 28, 28)\n",
    "assert x_test.shape == (10000, 28, 28)\n",
    "assert y_train.shape == (60000,)\n",
    "assert y_test.shape == (10000,)"
   ]
  },
  {
   "cell_type": "code",
   "execution_count": 69,
   "metadata": {},
   "outputs": [],
   "source": [
    "# Définir la fonction sigmoïde\n",
    "def sigmoid(x):\n",
    "  return 1 / (1 + tf.exp(-x))\n",
    "\n",
    "# Définir la fonction d'erreur\n",
    "def error(y_true, y_pred):\n",
    "  return tf.math.reduce_sum(tf.math.square(y_true-y_pred))"
   ]
  },
  {
   "cell_type": "code",
   "execution_count": 118,
   "metadata": {},
   "outputs": [],
   "source": [
    "def appr(x_train,y_train,epochs=10,alpha=0.01):\n",
    "\n",
    "    # Initialiser les poids du réseau de neurones aléatoirement\n",
    "    W = tf.Variable(tf.random.normal((28*28,1)))\n",
    "\n",
    "    # Boucle principale sur les époques\n",
    "    for epoch in range(epochs):\n",
    "\n",
    "        # Mélanger le jeu d'entraînement\n",
    "        indices = tf.range(len(x_train))\n",
    "        indices = tf.random.shuffle(indices)\n",
    "        x_train = tf.gather(x_train, indices)\n",
    "        y_train = tf.gather(y_train, indices)\n",
    "\n",
    "        # Initialiser l'erreur cumulée\n",
    "        cum_error = 0\n",
    "\n",
    "        # Boucle sur les données d'entraînement\n",
    "        for x, y in zip(x_train, y_train):\n",
    "\n",
    "            # Convertir l'image en vecteur de réels normalisés\n",
    "            x = tf.reshape(x, (28*28)) / 255\n",
    "\n",
    "            # Convertir l'étiquette en vecteur binaire d'une dimension \n",
    "            y = tf.one_hot(y, depth=1)\n",
    "\n",
    "            # Créer un gradient tape pour enregistrer les opérations\n",
    "            with tf.GradientTape() as tape:\n",
    "\n",
    "                # Calculer la sortie du réseau de neurones\n",
    "                z = sigmoid(tf.tensordot(x, W, axes=1))\n",
    "\n",
    "                # Calculer l'erreur locale\n",
    "                e = error(y, z)\n",
    "\n",
    "            # Mettre à jour l'erreur cumulée\n",
    "            cum_error += e\n",
    "\n",
    "            # Calculer le gradient de l'erreur par rapport aux poids\n",
    "            grad_W = tape.gradient(e, W)\n",
    "\n",
    "            # Mettre à jour les poids du réseau de neurones\n",
    "            W.assign_sub(alpha * grad_W)\n",
    "    \n",
    "    pass\n"
   ]
  },
  {
   "cell_type": "code",
   "execution_count": 120,
   "metadata": {},
   "outputs": [],
   "source": [
    "appr(x_train[:100],y_train[:100])"
   ]
  },
  {
   "attachments": {},
   "cell_type": "markdown",
   "metadata": {},
   "source": [
    "il faudrait faire une df avec x_train pour facilement check certaines valeurs"
   ]
  },
  {
   "cell_type": "code",
   "execution_count": 68,
   "metadata": {},
   "outputs": [
    {
     "data": {
      "text/plain": [
       "<matplotlib.image.AxesImage at 0x1dd457a3eb0>"
      ]
     },
     "execution_count": 68,
     "metadata": {},
     "output_type": "execute_result"
    },
    {
     "data": {
      "image/png": "[encoded data removed]",
      "text/plain": [
       "<Figure size 640x480 with 1 Axes>"
      ]
     },
     "metadata": {},
     "output_type": "display_data"
    }
   ],
   "source": [
    "plt.imshow(tf.reshape(x_test[157], (28,28))/255)"
   ]
  },
  {
   "cell_type": "code",
   "execution_count": 125,
   "metadata": {},
   "outputs": [],
   "source": [
    "TEST=[]\n",
    "for i in range(5000):\n",
    "    if sigmoid(tf.tensordot(tf.reshape(x_test[i], (28*28))/255 , W, axes=1))>0.9:\n",
    "        #print(i)\n",
    "        TEST.append(y_test[i])"
   ]
  },
  {
   "cell_type": "code",
   "execution_count": 129,
   "metadata": {},
   "outputs": [],
   "source": [
    "import pandas as pd"
   ]
  },
  {
   "cell_type": "code",
   "execution_count": 138,
   "metadata": {},
   "outputs": [],
   "source": [
    "t = pd.Series(TEST)"
   ]
  },
  {
   "cell_type": "code",
   "execution_count": 147,
   "metadata": {},
   "outputs": [
    {
     "data": {
      "text/plain": [
       "4    228\n",
       "7    175\n",
       "0    109\n",
       "2     77\n",
       "6     69\n",
       "8     64\n",
       "9     46\n",
       "5     40\n",
       "3     31\n",
       "1      9\n",
       "dtype: int64"
      ]
     },
     "execution_count": 147,
     "metadata": {},
     "output_type": "execute_result"
    }
   ],
   "source": [
    "t.value_counts()"
   ]
  },
  {
   "cell_type": "code",
   "execution_count": 62,
   "metadata": {},
   "outputs": [
    {
     "name": "stdout",
     "output_type": "stream",
     "text": [
      "3\n",
      "tf.Tensor([0.72039115], shape=(1,), dtype=float32)\n",
      "10\n",
      "tf.Tensor([0.01486775], shape=(1,), dtype=float32)\n",
      "13\n",
      "tf.Tensor([0.00235136], shape=(1,), dtype=float32)\n",
      "25\n",
      "tf.Tensor([1.6815387e-05], shape=(1,), dtype=float32)\n",
      "28\n",
      "tf.Tensor([0.9508319], shape=(1,), dtype=float32)\n",
      "55\n",
      "tf.Tensor([0.6809704], shape=(1,), dtype=float32)\n",
      "69\n",
      "tf.Tensor([0.00019051], shape=(1,), dtype=float32)\n",
      "71\n",
      "tf.Tensor([0.00013999], shape=(1,), dtype=float32)\n",
      "101\n",
      "tf.Tensor([0.04381334], shape=(1,), dtype=float32)\n",
      "126\n",
      "tf.Tensor([0.9965335], shape=(1,), dtype=float32)\n",
      "136\n",
      "tf.Tensor([0.98752755], shape=(1,), dtype=float32)\n",
      "148\n",
      "tf.Tensor([0.26931936], shape=(1,), dtype=float32)\n",
      "157\n",
      "tf.Tensor([0.992987], shape=(1,), dtype=float32)\n",
      "183\n",
      "tf.Tensor([0.00025026], shape=(1,), dtype=float32)\n",
      "188\n",
      "tf.Tensor([0.586616], shape=(1,), dtype=float32)\n",
      "192\n",
      "tf.Tensor([0.7027405], shape=(1,), dtype=float32)\n",
      "194\n",
      "tf.Tensor([0.59666127], shape=(1,), dtype=float32)\n"
     ]
    }
   ],
   "source": [
    "for i in range(200):\n",
    "    if y_test[i]==0:\n",
    "        print(i)\n",
    "        print(sigmoid(tf.tensordot(tf.reshape(x_test[i], (28*28))/255 , W, axes=1)))\n"
   ]
  },
  {
   "cell_type": "code",
   "execution_count": 38,
   "metadata": {},
   "outputs": [],
   "source": [
    "x = tf.reshape(x_train[24], (28*28))/255"
   ]
  },
  {
   "cell_type": "code",
   "execution_count": 39,
   "metadata": {},
   "outputs": [
    {
     "data": {
      "text/plain": [
       "<tf.Tensor: shape=(1,), dtype=float32, numpy=array([0.9793758], dtype=float32)>"
      ]
     },
     "execution_count": 39,
     "metadata": {},
     "output_type": "execute_result"
    }
   ],
   "source": [
    "sigmoid(tf.tensordot(x , W, axes=1))"
   ]
  },
  {
   "cell_type": "code",
   "execution_count": 113,
   "metadata": {},
   "outputs": [],
   "source": [
    "from PIL import Image\n",
    "import numpy as np"
   ]
  },
  {
   "cell_type": "code",
   "execution_count": 114,
   "metadata": {},
   "outputs": [],
   "source": [
    "chiffre = Image.open(\"chiffre.png\")\n",
    "\n",
    "#inverser les couleurs (on a entrainé notre réseau sur des chiffres blancs sur fond noir)\n",
    "chiffre = 255 - np.asarray(chiffre) \n",
    "\n",
    "#on ne garde qu'une des 3 couleurs\n",
    "chiffre = chiffre[:,:,0] \n",
    "\n",
    "#on créé le vecteur et on normalise\n",
    "chiffre = tf.reshape(tf.Variable(chiffre), (28*28))/255"
   ]
  },
  {
   "cell_type": "code",
   "execution_count": 116,
   "metadata": {},
   "outputs": [
    {
     "data": {
      "text/plain": [
       "<matplotlib.image.AxesImage at 0x1dd44451f10>"
      ]
     },
     "execution_count": 116,
     "metadata": {},
     "output_type": "execute_result"
    },
    {
     "data": {
      "image/png": "[encoded data removed]",
      "text/plain": [
       "<Figure size 640x480 with 1 Axes>"
      ]
     },
     "metadata": {},
     "output_type": "display_data"
    }
   ],
   "source": [
    "plt.imshow(tf.reshape(chiffre, (28,28))/255)"
   ]
  },
  {
   "cell_type": "code",
   "execution_count": 110,
   "metadata": {},
   "outputs": [
    {
     "data": {
      "text/plain": [
       "<tf.Tensor: shape=(1,), dtype=float32, numpy=array([0.4220643], dtype=float32)>"
      ]
     },
     "execution_count": 110,
     "metadata": {},
     "output_type": "execute_result"
    }
   ],
   "source": [
    "sigmoid(tf.tensordot(chiffre , W, axes=1))"
   ]
  },
  {
   "attachments": {},
   "cell_type": "markdown",
   "metadata": {},
   "source": [
    "Mon chiffe tracé à la main est reconnu comme un 0 à 42%. <br>\n",
    "On pourrait essayer d'entraîner le réseau de neurones sur une plus grosse partie du dataset ou augmenter le nombre d'époques lors de la phase d'entraînement"
   ]
  },
  {
   "attachments": {},
   "cell_type": "markdown",
   "metadata": {},
   "source": [
    "on inverse à nouveau"
   ]
  },
  {
   "cell_type": "code",
   "execution_count": 104,
   "metadata": {},
   "outputs": [],
   "source": [
    "chiffre=1-chiffre"
   ]
  },
  {
   "cell_type": "code",
   "execution_count": 105,
   "metadata": {},
   "outputs": [
    {
     "data": {
      "text/plain": [
       "<tf.Tensor: shape=(1,), dtype=float32, numpy=array([3.0106656e-23], dtype=float32)>"
      ]
     },
     "execution_count": 105,
     "metadata": {},
     "output_type": "execute_result"
    }
   ],
   "source": [
    "sigmoid(tf.tensordot(chiffre , W, axes=1))"
   ]
  },
  {
   "cell_type": "code",
   "execution_count": 108,
   "metadata": {},
   "outputs": [
    {
     "data": {
      "text/plain": [
       "<matplotlib.image.AxesImage at 0x1dd47001490>"
      ]
     },
     "execution_count": 108,
     "metadata": {},
     "output_type": "execute_result"
    },
    {
     "data": {
      "image/png": "[encoded data removed]",
      "text/plain": [
       "<Figure size 640x480 with 1 Axes>"
      ]
     },
     "metadata": {},
     "output_type": "display_data"
    }
   ],
   "source": [
    "plt.imshow(tf.reshape(1-chiffre, (28,28))/255)"
   ]
  },
  {
   "cell_type": "code",
   "execution_count": null,
   "metadata": {},
   "outputs": [],
   "source": [
    "Aucune chance que ce soit un 0"
   ]
  }
 ],
 "metadata": {
  "kernelspec": {
   "display_name": "NLP",
   "language": "python",
   "name": "python3"
  },
  "language_info": {
   "codemirror_mode": {
    "name": "ipython",
    "version": 3
   },
   "file_extension": ".py",
   "mimetype": "text/x-python",
   "name": "python",
   "nbconvert_exporter": "python",
   "pygments_lexer": "ipython3",
   "version": "3.9.16"
  },
  "orig_nbformat": 4
 },
 "nbformat": 4,
 "nbformat_minor": 2
}
